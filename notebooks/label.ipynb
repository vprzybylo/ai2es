{
 "cells": [
  {
   "cell_type": "code",
   "execution_count": 18,
   "metadata": {},
   "outputs": [
    {
     "name": "stdout",
     "output_type": "stream",
     "text": [
      "The autoreload extension is already loaded. To reload it, use:\n",
      "  %reload_ext autoreload\n"
     ]
    }
   ],
   "source": [
    "%load_ext autoreload\n",
    "%autoreload 2\n",
    "\n",
    "import sys\n",
    "# can't relative import with sister directory\n",
    "sys.path.insert(0, \"..\")\n",
    "import ipywidgets\n",
    "import pandas as pd\n",
    "import cocpit.gui_label as gui_label\n",
    "import cocpit.config as config"
   ]
  },
  {
   "cell_type": "code",
   "execution_count": 19,
   "metadata": {},
   "outputs": [],
   "source": [
    "# USER CHANGES\n",
    "year = 2017\n",
    "time_of_day = 'night' # or 'day'\n",
    "precip = 'no_precip'\n",
    "precip_threshold = 0.1  # threshold of rain gauge output be to be considered precipitating"
   ]
  },
  {
   "cell_type": "code",
   "execution_count": 20,
   "metadata": {},
   "outputs": [],
   "source": [
    "df = pd.read_parquet(f'/ai2es/matched_parquet/{year}_timeofday.parquet')\n",
    "df = df[df['night'] == True if time_of_day == 'night' else df['night'] == False]\n",
    "df = df[df['precip_accum_1min [mm]'] > precip_threshold if precip == 'precip' else df['precip_accum_1min [mm]'] == 0.0]\n",
    "folder_dest = f'/ai2es/{time_of_day}_{precip}_hand_labeled/{year}'\n",
    "\n",
    "# make folders to save to if they don't exist\n",
    "for label in config.CLASS_NAMES:\n",
    "    save_path = os.path.join(folder_dest, label)\n",
    "    if not os.path.exists(save_path):\n",
    "        os.makedirs(save_path)"
   ]
  },
  {
   "cell_type": "code",
   "execution_count": 21,
   "metadata": {},
   "outputs": [
    {
     "data": {
      "application/vnd.jupyter.widget-view+json": {
       "model_id": "7c6f8e7c42634511bee46005c9f5be05",
       "version_major": 2,
       "version_minor": 0
      },
      "text/plain": [
       "VBox(children=(HBox(children=(Output(),)), HBox(children=(Button(description='no precipitation', style=ButtonS…"
      ]
     },
     "metadata": {},
     "output_type": "display_data"
    }
   ],
   "source": [
    "g = gui_label.GUI(df['path'], folder_dest)\n",
    "g.index = 8700  # pick up at a specific index if restarting\n",
    "g.display_image()\n",
    "g.make_buttons()\n",
    "image_box = ipywidgets.HBox([g.center])\n",
    "if len(config.CLASS_NAMES) > 5:\n",
    "    label_btns = ipywidgets.VBox([g.buttons[i] for i in range(len(config.CLASS_NAMES))])\n",
    "else:\n",
    "    label_btns = ipywidgets.HBox([g.buttons[i] for i in range(len(config.CLASS_NAMES))])\n",
    "undo = ipywidgets.HBox([g.undo_btn])\n",
    "box_layout = ipywidgets.Layout(display='flex',\n",
    "                flex_flow='column',\n",
    "                align_items='center',\n",
    "                width='100%')\n",
    "display(ipywidgets.VBox([image_box, label_btns, undo], layout=box_layout))"
   ]
  },
  {
   "cell_type": "code",
   "execution_count": null,
   "metadata": {},
   "outputs": [],
   "source": []
  }
 ],
 "metadata": {
  "interpreter": {
   "hash": "949777d72b0d2535278d3dc13498b2535136f6dfe0678499012e853ee9abcab1"
  },
  "kernelspec": {
   "display_name": "Python 3.9.6 64-bit",
   "language": "python",
   "name": "python3"
  },
  "language_info": {
   "codemirror_mode": {
    "name": "ipython",
    "version": 3
   },
   "file_extension": ".py",
   "mimetype": "text/x-python",
   "name": "python",
   "nbconvert_exporter": "python",
   "pygments_lexer": "ipython3",
   "version": "3.9.6"
  },
  "orig_nbformat": 4
 },
 "nbformat": 4,
 "nbformat_minor": 2
}
