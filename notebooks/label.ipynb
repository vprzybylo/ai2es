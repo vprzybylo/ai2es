{
 "cells": [
  {
   "cell_type": "code",
   "execution_count": 11,
   "metadata": {},
   "outputs": [
    {
     "name": "stdout",
     "output_type": "stream",
     "text": [
      "The autoreload extension is already loaded. To reload it, use:\n",
      "  %reload_ext autoreload\n"
     ]
    }
   ],
   "source": [
    "import sys\n",
    "# can't relative import with sister directory\n",
    "sys.path.insert(0, \"..\")\n",
    "import ipywidgets\n",
    "import pandas as pd\n",
    "import cocpit\n",
    "from ai2es import gui_setup\n",
    "\n",
    "%load_ext autoreload\n",
    "%autoreload 2"
   ]
  },
  {
   "cell_type": "code",
   "execution_count": 12,
   "metadata": {},
   "outputs": [],
   "source": [
    "# USER CHANGES\n",
    "year = 2017\n",
    "time_of_day = 'night' # or 'day'\n",
    "precip = 'no_precip'\n",
    "precip_threshold = 0.1  # threshold of rain gauge output be to be considered precipitating"
   ]
  },
  {
   "cell_type": "code",
   "execution_count": 21,
   "metadata": {},
   "outputs": [],
   "source": [
    "df, folder_dest = gui_setup.read_parquet(year, time_of_day, precip_threshold, precip)\n",
    "df = gui_setup.shuffle_df(df)\n",
    "gui_setup.make_folders(folder_dest)\n",
    "#gui_setup.show_new_images()"
   ]
  },
  {
   "cell_type": "code",
   "execution_count": 22,
   "metadata": {},
   "outputs": [
    {
     "data": {
      "application/vnd.jupyter.widget-view+json": {
       "model_id": "f83cc184d18e415e813293048c9c3c76",
       "version_major": 2,
       "version_minor": 0
      },
      "text/plain": [
       "VBox(children=(HBox(children=(Output(),)), HBox(children=(Button(description='no precipitation', style=ButtonS…"
      ]
     },
     "metadata": {},
     "output_type": "display_data"
    }
   ],
   "source": [
    "g = cocpit.gui_label.GUI(df['path'], folder_dest, df['precip_accum_1min [mm]'])\n",
    "g.display_image()\n",
    "g.make_buttons()\n",
    "g.align_buttons()\n",
    "box_layout = ipywidgets.Layout(\n",
    "        display=\"flex\", flex_flow=\"column\", align_items=\"center\", width=\"100%\"\n",
    "    )\n",
    "image_box = ipywidgets.HBox([g.center])\n",
    "display(ipywidgets.VBox([image_box, g.label_btns, g.undo_btn], layout=box_layout))"
   ]
  },
  {
   "cell_type": "code",
   "execution_count": null,
   "metadata": {},
   "outputs": [],
   "source": []
  }
 ],
 "metadata": {
  "interpreter": {
   "hash": "949777d72b0d2535278d3dc13498b2535136f6dfe0678499012e853ee9abcab1"
  },
  "kernelspec": {
   "display_name": "Python 3.9.6 64-bit",
   "language": "python",
   "name": "python3"
  },
  "language_info": {
   "codemirror_mode": {
    "name": "ipython",
    "version": 3
   },
   "file_extension": ".py",
   "mimetype": "text/x-python",
   "name": "python",
   "nbconvert_exporter": "python",
   "pygments_lexer": "ipython3",
   "version": "3.9.6"
  },
  "orig_nbformat": 4
 },
 "nbformat": 4,
 "nbformat_minor": 2
}
