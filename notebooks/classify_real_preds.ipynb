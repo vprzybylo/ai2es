{
 "cells": [
  {
   "cell_type": "code",
   "execution_count": null,
   "metadata": {},
   "outputs": [],
   "source": [
    "import csv\n",
    "import PIL\n",
    "import matplotlib.pyplot as plt\n",
    "from cocpit.interpretability.interp import Interp\n",
    "from cocpit.interpretability.plot import Plot\n",
    "import pandas as pd\n",
    "import numpy as np\n",
    "import xarray as xr\n",
    "from datetime import datetime\n",
    "%load_ext autoreload\n",
    "%autoreload 2"
   ]
  },
  {
   "cell_type": "code",
   "execution_count": null,
   "metadata": {},
   "outputs": [],
   "source": [
    "def plot_image(image, ax, date, station) -> None:\n",
    "    \"\"\"\n",
    "    display the raw image\n",
    "\n",
    "    Args:\n",
    "        image (PIL.Image.Image): opened image\n",
    "        ax1 (plt.Axes): subplot axis\n",
    "    \"\"\"\n",
    "    ax.imshow(image, aspect=\"auto\")\n",
    "    ax.set_title(\n",
    "            f\"Model Labeled as: {row[1]}, {row[2]}, {station}, {date}\\n\"\n",
    "        )\n",
    "    ax.axis(\"off\")\n"
   ]
  },
  {
   "cell_type": "code",
   "execution_count": null,
   "metadata": {},
   "outputs": [],
   "source": [
    "def precip_diff(df) -> None:\n",
    "    \"\"\"\n",
    "    Calculate precip over 5 min observations\n",
    "    precip - since 00UTC every 5 mins\n",
    "        resets to 0 at 00:05:00 or 00:00:00\n",
    "    precip-total - Total Accumulated NRT (mm):\n",
    "        Accumulated total non real time precipitation\n",
    "        since the Pluvio started operation with a fixed delay of 5 minutes\n",
    "    \"\"\"\n",
    "    # df = df.reset_index()\n",
    "    # df = df.sort_values(by=[\"station\", \"time_5M\"])\n",
    "    df[\"precip_diff\"] = df[\"precip\"] - df[\"precip\"].shift(1)\n",
    "\n",
    "    # mask and drop negative precip diff values from gauge resetting for new day\n",
    "    df = df.mask(df[\"precip_diff\"] < 0, np.nan).dropna(\n",
    "        subset=[\"precip_diff\"]\n",
    "    )\n",
    "    return df"
   ]
  },
  {
   "cell_type": "code",
   "execution_count": null,
   "metadata": {},
   "outputs": [],
   "source": [
    "def date_from_filename(filename):\n",
    "    year = filename[:4]\n",
    "    month = filename[4:6]\n",
    "    day = filename[6:8]\n",
    "    hour = filename[9:11]\n",
    "    minute = filename[11:13]\n",
    "    second = '00'\n",
    "    date_match = f'{year}-{month}-{day} {hour}:{minute}:{second}'\n",
    "    return pd.to_datetime(date_match, format='%Y-%m-%d %H:%M:%S')"
   ]
  },
  {
   "cell_type": "code",
   "execution_count": null,
   "metadata": {},
   "outputs": [],
   "source": [
    "date = '2022/09/04'\n",
    "year = date.split('/')[0]\n",
    "month = date.split('/')[1]\n",
    "day = date.split('/')[2]\n",
    "ds = xr.open_dataset(f'/ai2es/5_min_obs/{year}/{month}/{year}{month}{day}.nc').to_dataframe()\n",
    "ds = precip_diff(ds).reset_index()\n",
    "pred_dir = '/ai2es/realtime_predictions/csv'\n"
   ]
  },
  {
   "cell_type": "code",
   "execution_count": null,
   "metadata": {},
   "outputs": [],
   "source": [
    "pred = 'precipitation'\n",
    "with open(f\"{pred_dir}/{date}/{date.replace('/','_')}.csv\", newline='') as csvfile:\n",
    "    reader = csv.reader(csvfile, delimiter=',')\n",
    "    # reader.__next__() # skip header\n",
    "    for row in reader:\n",
    "        station = row[0].split('.')[0].split('_')[1]\n",
    "        date_to_match = date_from_filename(row[0])\n",
    "        precip = ds['precip_diff'][(ds['station']==station) & (ds['time_5M'] == date_to_match)].item()\n",
    "        #if precip > 0.00 and row[1] != 'precipitation':\n",
    "        image = PIL.Image.open(f'/ai2es/cam_photos/{date}/{station}/{row[0]}')\n",
    "        p = Plot(image)\n",
    "        p.interp_runner()\n",
    "        fig = p.make_plots()\n",
    "        fig.suptitle(\n",
    "            f\"Prediction: {row[1]}\\n\"\n",
    "            f\"Station: {station}\\n\"\n",
    "            f\"Probability: {row[2]}\\n\"\n",
    "            f\"Date: {date_to_match}\\n\"\n",
    "            f\"5 min precip accumulation {precip:.2f}\"\n",
    "        )\n"
   ]
  }
 ],
 "metadata": {
  "interpreter": {
   "hash": "949777d72b0d2535278d3dc13498b2535136f6dfe0678499012e853ee9abcab1"
  },
  "kernelspec": {
   "display_name": "Python 3.9.6 64-bit",
   "language": "python",
   "name": "python3"
  },
  "language_info": {
   "codemirror_mode": {
    "name": "ipython",
    "version": 3
   },
   "file_extension": ".py",
   "mimetype": "text/x-python",
   "name": "python",
   "nbconvert_exporter": "python",
   "pygments_lexer": "ipython3",
   "version": "3.9.6"
  },
  "orig_nbformat": 4
 },
 "nbformat": 4,
 "nbformat_minor": 2
}
