{
 "cells": [
  {
   "cell_type": "code",
   "execution_count": 1,
   "metadata": {},
   "outputs": [],
   "source": [
    "import csv\n",
    "import PIL\n",
    "import matplotlib.pyplot as plt"
   ]
  },
  {
   "cell_type": "code",
   "execution_count": 2,
   "metadata": {},
   "outputs": [],
   "source": [
    "def plot_image(image, ax, date, station) -> None:\n",
    "    \"\"\"\n",
    "    display the raw image\n",
    "\n",
    "    Args:\n",
    "        image (PIL.Image.Image): opened image\n",
    "        ax1 (plt.Axes): subplot axis\n",
    "    \"\"\"\n",
    "    ax.imshow(image, aspect=\"auto\")\n",
    "    ax.set_title(\n",
    "            f\"Model Labeled as: {row[1]}, {row[2]}, {station}, {date}\\n\"\n",
    "        )\n",
    "    ax.axis(\"off\")\n"
   ]
  },
  {
   "cell_type": "code",
   "execution_count": 3,
   "metadata": {},
   "outputs": [],
   "source": [
    "date = '2022/08/06'\n",
    "pred_dir = '/ai2es/realtime_predictions/csv'\n",
    "pred = 'precipitation'\n",
    "with open(f\"{pred_dir}/{date}/{date.replace('/','_')}.csv\", newline='') as csvfile:\n",
    "    reader = csv.reader(csvfile, delimiter=',')\n",
    "    # reader.__next__() # skip header\n",
    "    for row in reader:\n",
    "        if row[1] == pred:\n",
    "            try:\n",
    "                station = row[0].split('.')[0].split('_')[1]\n",
    "                image = PIL.Image.open(f'/ai2es/cam_photos/{date}/{station}/{row[0]}')\n",
    "            except FileNotFoundError:\n",
    "                print(\"The file cannot be found.\")\n",
    "            _, ax = plt.subplots(ncols=1, nrows=1)\n",
    "            plot_image(image, ax, date, station)\n",
    "            plt.show()\n",
    "        "
   ]
  },
  {
   "cell_type": "code",
   "execution_count": null,
   "metadata": {},
   "outputs": [],
   "source": []
  }
 ],
 "metadata": {
  "interpreter": {
   "hash": "949777d72b0d2535278d3dc13498b2535136f6dfe0678499012e853ee9abcab1"
  },
  "kernelspec": {
   "display_name": "Python 3.9.6 64-bit",
   "language": "python",
   "name": "python3"
  },
  "language_info": {
   "codemirror_mode": {
    "name": "ipython",
    "version": 3
   },
   "file_extension": ".py",
   "mimetype": "text/x-python",
   "name": "python",
   "nbconvert_exporter": "python",
   "pygments_lexer": "ipython3",
   "version": "3.9.6"
  },
  "orig_nbformat": 4
 },
 "nbformat": 4,
 "nbformat_minor": 2
}
