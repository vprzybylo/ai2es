{
 "cells": [
  {
   "cell_type": "code",
   "execution_count": 21,
   "metadata": {},
   "outputs": [
    {
     "name": "stdout",
     "output_type": "stream",
     "text": [
      "The autoreload extension is already loaded. To reload it, use:\n",
      "  %reload_ext autoreload\n"
     ]
    }
   ],
   "source": [
    "import csv\n",
    "import PIL\n",
    "import matplotlib.pyplot as plt\n",
    "import cocpit\n",
    "from cocpit import config as config\n",
    "from cocpit.interpretability.interp import Interp \n",
    "from cocpit.interpretability.plot import Plot\n",
    "import pandas as pd\n",
    "import numpy as np\n",
    "import xarray as xr\n",
    "from datetime import datetime\n",
    "%load_ext autoreload\n",
    "%autoreload 2"
   ]
  },
  {
   "cell_type": "code",
   "execution_count": 3,
   "metadata": {},
   "outputs": [],
   "source": [
    "def plot_image(image, ax, date, station) -> None:\n",
    "    \"\"\"\n",
    "    display the raw image\n",
    "\n",
    "    Args:\n",
    "        image (PIL.Image.Image): opened image\n",
    "        ax1 (plt.Axes): subplot axis\n",
    "    \"\"\"\n",
    "    ax.imshow(image, aspect=\"auto\")\n",
    "    ax.set_title(\n",
    "            f\"Model Labeled as: {row[1]}, {row[2]}, {station}, {date}\\n\"\n",
    "        )\n",
    "    ax.axis(\"off\")\n"
   ]
  },
  {
   "cell_type": "code",
   "execution_count": 4,
   "metadata": {},
   "outputs": [],
   "source": [
    "def precip_diff(df) -> None:\n",
    "    \"\"\"\n",
    "    Calculate precip over 5 min observations\n",
    "    precip - since 00UTC every 5 mins\n",
    "        resets to 0 at 00:05:00 or 00:00:00\n",
    "    precip-total - Total Accumulated NRT (mm):\n",
    "        Accumulated total non real time precipitation\n",
    "        since the Pluvio started operation with a fixed delay of 5 minutes\n",
    "    \"\"\"\n",
    "    # df = df.reset_index()\n",
    "    # df = df.sort_values(by=[\"station\", \"time_5M\"])\n",
    "    df[\"precip_diff\"] = df[\"precip\"] - df[\"precip\"].shift(1)\n",
    "\n",
    "    # mask and drop negative precip diff values from gauge resetting for new day\n",
    "    df = df.mask(df[\"precip_diff\"] < 0, np.nan).dropna(\n",
    "        subset=[\"precip_diff\"]\n",
    "    )\n",
    "    return df"
   ]
  },
  {
   "cell_type": "code",
   "execution_count": 5,
   "metadata": {},
   "outputs": [],
   "source": [
    "def date_from_filename(filename):\n",
    "    year = filename[:4]\n",
    "    month = filename[4:6]\n",
    "    day = filename[6:8]\n",
    "    hour = filename[9:11]\n",
    "    minute = filename[11:13]\n",
    "    second = '00'\n",
    "    date_match = f'{year}-{month}-{day} {hour}:{minute}:{second}'\n",
    "    return pd.to_datetime(date_match, format='%Y-%m-%d %H:%M:%S')"
   ]
  },
  {
   "cell_type": "code",
   "execution_count": 22,
   "metadata": {},
   "outputs": [
    {
     "ename": "NameError",
     "evalue": "name 'model' is not defined",
     "output_type": "error",
     "traceback": [
      "\u001b[0;31m---------------------------------------------------------------------------\u001b[0m",
      "\u001b[0;31mNameError\u001b[0m                                 Traceback (most recent call last)",
      "Cell \u001b[0;32mIn[22], line 19\u001b[0m\n\u001b[1;32m     17\u001b[0m \u001b[38;5;28;01mif\u001b[39;00m precip \u001b[38;5;241m>\u001b[39m \u001b[38;5;241m0.00\u001b[39m:\u001b[38;5;66;03m# and row[1] != 'precipitation':\u001b[39;00m\n\u001b[1;32m     18\u001b[0m     image \u001b[38;5;241m=\u001b[39m PIL\u001b[38;5;241m.\u001b[39mImage\u001b[38;5;241m.\u001b[39mopen(\u001b[38;5;124mf\u001b[39m\u001b[38;5;124m'\u001b[39m\u001b[38;5;132;01m{\u001b[39;00mconfig\u001b[38;5;241m.\u001b[39mBASE_DIR\u001b[38;5;132;01m}\u001b[39;00m\u001b[38;5;124m/cam_photos/\u001b[39m\u001b[38;5;132;01m{\u001b[39;00mdate\u001b[38;5;132;01m}\u001b[39;00m\u001b[38;5;124m/\u001b[39m\u001b[38;5;132;01m{\u001b[39;00mstation\u001b[38;5;132;01m}\u001b[39;00m\u001b[38;5;124m/\u001b[39m\u001b[38;5;132;01m{\u001b[39;00mrow[\u001b[38;5;241m0\u001b[39m]\u001b[38;5;132;01m}\u001b[39;00m\u001b[38;5;124m'\u001b[39m)\n\u001b[0;32m---> 19\u001b[0m     p \u001b[38;5;241m=\u001b[39m Plot(\u001b[43mmodel\u001b[49m, image)\n\u001b[1;32m     20\u001b[0m     p\u001b[38;5;241m.\u001b[39minterp_runner(image)\n\u001b[1;32m     21\u001b[0m     fig \u001b[38;5;241m=\u001b[39m p\u001b[38;5;241m.\u001b[39mmake_plots()\n",
      "\u001b[0;31mNameError\u001b[0m: name 'model' is not defined"
     ]
    }
   ],
   "source": [
    "date = '2022/06/03'\n",
    "year = date.split('/')[0]\n",
    "month = date.split('/')[1]\n",
    "day = date.split('/')[2]\n",
    "ds = xr.open_dataset(f'{config.BASE_DIR}/5_min_obs/{year}/{month}/{year}{month}{day}.nc').to_dataframe()\n",
    "ds = precip_diff(ds).reset_index()\n",
    "pred_dir = f'{config.BASE_DIR}/realtime_predictions/csv'\n",
    "\n",
    "pred = 'precipitation'\n",
    "with open(f\"{pred_dir}/{date}/{date.replace('/','_')}.csv\", newline='') as csvfile:\n",
    "    reader = csv.reader(csvfile, delimiter=',')\n",
    "    # reader.__next__() # skip header\n",
    "    for row in reader:\n",
    "        station = row[0].split('.')[0].split('_')[1]\n",
    "        date_to_match = date_from_filename(row[0])\n",
    "        precip = ds['precip_diff'][(ds['station']==station) & (ds['time_5M'] == date_to_match)].item()\n",
    "        if precip > 0.00:# and row[1] != 'precipitation':\n",
    "            image = PIL.Image.open(f'{config.BASE_DIR}/cam_photos/{date}/{station}/{row[0]}')\n",
    "            i = Interp(image, label=row[1], prob=row[2], station=station, date=date_to_match, precip=f'{precip:.2f}')\n",
    "            i.interp()"
   ]
  },
  {
   "cell_type": "code",
   "execution_count": null,
   "metadata": {},
   "outputs": [],
   "source": []
  }
 ],
 "metadata": {
  "kernelspec": {
   "display_name": "Python 3.10.6 64-bit",
   "language": "python",
   "name": "python3"
  },
  "language_info": {
   "codemirror_mode": {
    "name": "ipython",
    "version": 3
   },
   "file_extension": ".py",
   "mimetype": "text/x-python",
   "name": "python",
   "nbconvert_exporter": "python",
   "pygments_lexer": "ipython3",
   "version": "3.10.6"
  },
  "orig_nbformat": 4,
  "vscode": {
   "interpreter": {
    "hash": "31f2aee4e71d21fbe5cf8b01ff0e069b9275f58929596ceb00d14d90e3e16cd6"
   }
  }
 },
 "nbformat": 4,
 "nbformat_minor": 2
}
