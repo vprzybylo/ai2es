{
 "cells": [
  {
   "cell_type": "code",
   "execution_count": 3,
   "metadata": {},
   "outputs": [
    {
     "name": "stdout",
     "output_type": "stream",
     "text": [
      "count    1.648732e+06\n",
      "mean     2.015925e+03\n",
      "std      2.895974e-01\n",
      "min      2.015000e+03\n",
      "25%      2.016000e+03\n",
      "50%      2.016000e+03\n",
      "75%      2.016000e+03\n",
      "max      2.017000e+03\n",
      "Name: datetime, dtype: float64\n"
     ]
    }
   ],
   "source": [
    "\n",
    "import pandas as pd\n",
    "from datetime import datetime\n",
    "import os\n",
    "def camera_photo_paths(photo_dir: str = \"../cam_photos\") -> None:\n",
    "    \"\"\"create dataframe of camera images including station ids, paths, and datetimes\n",
    "\n",
    "    Args:\n",
    "        photo_dir (str, optional): directory of camera photos. Defaults to \"../cam_photos\".\n",
    "    \"\"\"\n",
    "    photo_files = os.listdir(photo_dir)\n",
    "    stations = [photo.split(\"_\")[1].split(\".\")[0] for photo in photo_files]\n",
    "    dates = [\n",
    "        datetime.strptime(photo.split(\"_\")[0].replace(\"T\", \"\"), \"%Y%m%d%H%M%S\")\n",
    "        for photo in photo_files\n",
    "    ]\n",
    "    camera_df = pd.DataFrame({\"stid\": stations, \"datetime\": dates})\n",
    "    camera_df['year'] = camera_df[\"datetime\"].dt.year\n",
    "    print(camera_df.groupby('year').nunique())\n",
    "\n",
    "camera_photo_paths()"
   ]
  },
  {
   "cell_type": "code",
   "execution_count": null,
   "metadata": {},
   "outputs": [],
   "source": []
  }
 ],
 "metadata": {
  "interpreter": {
   "hash": "949777d72b0d2535278d3dc13498b2535136f6dfe0678499012e853ee9abcab1"
  },
  "kernelspec": {
   "display_name": "Python 3.9.6 64-bit",
   "language": "python",
   "name": "python3"
  },
  "language_info": {
   "codemirror_mode": {
    "name": "ipython",
    "version": 3
   },
   "file_extension": ".py",
   "mimetype": "text/x-python",
   "name": "python",
   "nbconvert_exporter": "python",
   "pygments_lexer": "ipython3",
   "version": "3.9.6"
  },
  "orig_nbformat": 4
 },
 "nbformat": 4,
 "nbformat_minor": 2
}
